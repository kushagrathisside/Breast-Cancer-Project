{
  "nbformat": 4,
  "nbformat_minor": 0,
  "metadata": {
    "colab": {
      "provenance": [],
      "authorship_tag": "ABX9TyPLKbhcfDNMb8PAFpgMBdzB",
      "include_colab_link": true
    },
    "kernelspec": {
      "name": "python3",
      "display_name": "Python 3"
    },
    "language_info": {
      "name": "python"
    }
  },
  "cells": [
    {
      "cell_type": "markdown",
      "metadata": {
        "id": "view-in-github",
        "colab_type": "text"
      },
      "source": [
        "<a href=\"https://colab.research.google.com/github/kushagrathisside/Breast-Cancer-Project/blob/main/Automation_of_Breast_Cancer_Processing.ipynb\" target=\"_parent\"><img src=\"https://colab.research.google.com/assets/colab-badge.svg\" alt=\"Open In Colab\"/></a>"
      ]
    },
    {
      "cell_type": "markdown",
      "source": [
        "# **Breast Cancer Prediction**\n",
        "Breast cancer is cancer that develops from breast tissue. Signs of breast cancer may include a lump in the breast, a change in breast shape, dimpling of the skin, milk rejection, fluid coming from the nipple, a newly inverted nipple, or a red or scaly patch of skin. In those with distant spread of the disease, there may be bone pain, swollen lymph nodes, shortness of breath, or yellow skin.\n",
        "\n",
        "\n",
        "## **Benign**\n",
        "'Benign' cancer is the cancer which doesn't spread and are non cancerous. In most cases, a doctor diagnosing a tumor as benign will most likely be left alone. Benign tumors are not generally aggressive around the surrounding tissue and in some cases, may continue to grow. If the tumor continues to grow and cause discomfort by pressing against surrounding organs and causing pain, the tumor would be removed. \\\\\n",
        "## **Malignant**\n",
        "'Malignant' cancer cells spread across the body making it very dangerous. Malignant tumors are aggressive and cancerous because damage the surrounding tissue and may be removed depending on the cancerous and aggressive on the severity or aggressiveness of the tumor.\n",
        "\n",
        "Link to dataset: https://archive.ics.uci.edu/ml/datasets/Breast+Cancer "
      ],
      "metadata": {
        "id": "yjN-iX7UAACp"
      }
    },
    {
      "cell_type": "markdown",
      "source": [
        "## Importing libraries and related functions"
      ],
      "metadata": {
        "id": "R8waGhQVV7YO"
      }
    },
    {
      "cell_type": "code",
      "execution_count": 48,
      "metadata": {
        "id": "mgmbdTA6R2Os"
      },
      "outputs": [],
      "source": [
        "import pandas as pd\n",
        "import numpy as np\n",
        "import matplotlib.pyplot as plt\n",
        "\n",
        "\n",
        "from google.colab import drive\n",
        "from google.colab import files\n",
        "\n",
        "from sklearn.naive_bayes import GaussianNB\n",
        "from sklearn.linear_model import LogisticRegression\n",
        "from sklearn.metrics import classification_report"
      ]
    },
    {
      "cell_type": "markdown",
      "source": [
        "## Uploading Files\n",
        "The user can use *upload_files()* to upload the csv files. \\\\\n",
        "**Parameters:** *None* \\\\\n",
        "**Return Type:** *None*"
      ],
      "metadata": {
        "id": "Wx6U3ah3N-LA"
      }
    },
    {
      "cell_type": "code",
      "source": [
        "def upload_files():\n",
        "  uploaded = files.upload()\n",
        "\n",
        "  for fn in uploaded.keys():\n",
        "    print('User uploaded file \"{name}\" with length {length} bytes'.format(\n",
        "        name=fn, length=len(uploaded[fn])))"
      ],
      "metadata": {
        "id": "0HKWYFe6Mrga"
      },
      "execution_count": 49,
      "outputs": []
    },
    {
      "cell_type": "code",
      "source": [
        "upload_files()"
      ],
      "metadata": {
        "colab": {
          "base_uri": "https://localhost:8080/",
          "height": 37
        },
        "id": "y1TVGlArNnIE",
        "outputId": "a9e4b35e-abe3-4b8c-eab4-f54af870a697"
      },
      "execution_count": 50,
      "outputs": [
        {
          "output_type": "display_data",
          "data": {
            "text/plain": [
              "<IPython.core.display.HTML object>"
            ],
            "text/html": [
              "\n",
              "     <input type=\"file\" id=\"files-05736bb2-d982-45c3-929c-e5222e354881\" name=\"files[]\" multiple disabled\n",
              "        style=\"border:none\" />\n",
              "     <output id=\"result-05736bb2-d982-45c3-929c-e5222e354881\">\n",
              "      Upload widget is only available when the cell has been executed in the\n",
              "      current browser session. Please rerun this cell to enable.\n",
              "      </output>\n",
              "      <script>// Copyright 2017 Google LLC\n",
              "//\n",
              "// Licensed under the Apache License, Version 2.0 (the \"License\");\n",
              "// you may not use this file except in compliance with the License.\n",
              "// You may obtain a copy of the License at\n",
              "//\n",
              "//      http://www.apache.org/licenses/LICENSE-2.0\n",
              "//\n",
              "// Unless required by applicable law or agreed to in writing, software\n",
              "// distributed under the License is distributed on an \"AS IS\" BASIS,\n",
              "// WITHOUT WARRANTIES OR CONDITIONS OF ANY KIND, either express or implied.\n",
              "// See the License for the specific language governing permissions and\n",
              "// limitations under the License.\n",
              "\n",
              "/**\n",
              " * @fileoverview Helpers for google.colab Python module.\n",
              " */\n",
              "(function(scope) {\n",
              "function span(text, styleAttributes = {}) {\n",
              "  const element = document.createElement('span');\n",
              "  element.textContent = text;\n",
              "  for (const key of Object.keys(styleAttributes)) {\n",
              "    element.style[key] = styleAttributes[key];\n",
              "  }\n",
              "  return element;\n",
              "}\n",
              "\n",
              "// Max number of bytes which will be uploaded at a time.\n",
              "const MAX_PAYLOAD_SIZE = 100 * 1024;\n",
              "\n",
              "function _uploadFiles(inputId, outputId) {\n",
              "  const steps = uploadFilesStep(inputId, outputId);\n",
              "  const outputElement = document.getElementById(outputId);\n",
              "  // Cache steps on the outputElement to make it available for the next call\n",
              "  // to uploadFilesContinue from Python.\n",
              "  outputElement.steps = steps;\n",
              "\n",
              "  return _uploadFilesContinue(outputId);\n",
              "}\n",
              "\n",
              "// This is roughly an async generator (not supported in the browser yet),\n",
              "// where there are multiple asynchronous steps and the Python side is going\n",
              "// to poll for completion of each step.\n",
              "// This uses a Promise to block the python side on completion of each step,\n",
              "// then passes the result of the previous step as the input to the next step.\n",
              "function _uploadFilesContinue(outputId) {\n",
              "  const outputElement = document.getElementById(outputId);\n",
              "  const steps = outputElement.steps;\n",
              "\n",
              "  const next = steps.next(outputElement.lastPromiseValue);\n",
              "  return Promise.resolve(next.value.promise).then((value) => {\n",
              "    // Cache the last promise value to make it available to the next\n",
              "    // step of the generator.\n",
              "    outputElement.lastPromiseValue = value;\n",
              "    return next.value.response;\n",
              "  });\n",
              "}\n",
              "\n",
              "/**\n",
              " * Generator function which is called between each async step of the upload\n",
              " * process.\n",
              " * @param {string} inputId Element ID of the input file picker element.\n",
              " * @param {string} outputId Element ID of the output display.\n",
              " * @return {!Iterable<!Object>} Iterable of next steps.\n",
              " */\n",
              "function* uploadFilesStep(inputId, outputId) {\n",
              "  const inputElement = document.getElementById(inputId);\n",
              "  inputElement.disabled = false;\n",
              "\n",
              "  const outputElement = document.getElementById(outputId);\n",
              "  outputElement.innerHTML = '';\n",
              "\n",
              "  const pickedPromise = new Promise((resolve) => {\n",
              "    inputElement.addEventListener('change', (e) => {\n",
              "      resolve(e.target.files);\n",
              "    });\n",
              "  });\n",
              "\n",
              "  const cancel = document.createElement('button');\n",
              "  inputElement.parentElement.appendChild(cancel);\n",
              "  cancel.textContent = 'Cancel upload';\n",
              "  const cancelPromise = new Promise((resolve) => {\n",
              "    cancel.onclick = () => {\n",
              "      resolve(null);\n",
              "    };\n",
              "  });\n",
              "\n",
              "  // Wait for the user to pick the files.\n",
              "  const files = yield {\n",
              "    promise: Promise.race([pickedPromise, cancelPromise]),\n",
              "    response: {\n",
              "      action: 'starting',\n",
              "    }\n",
              "  };\n",
              "\n",
              "  cancel.remove();\n",
              "\n",
              "  // Disable the input element since further picks are not allowed.\n",
              "  inputElement.disabled = true;\n",
              "\n",
              "  if (!files) {\n",
              "    return {\n",
              "      response: {\n",
              "        action: 'complete',\n",
              "      }\n",
              "    };\n",
              "  }\n",
              "\n",
              "  for (const file of files) {\n",
              "    const li = document.createElement('li');\n",
              "    li.append(span(file.name, {fontWeight: 'bold'}));\n",
              "    li.append(span(\n",
              "        `(${file.type || 'n/a'}) - ${file.size} bytes, ` +\n",
              "        `last modified: ${\n",
              "            file.lastModifiedDate ? file.lastModifiedDate.toLocaleDateString() :\n",
              "                                    'n/a'} - `));\n",
              "    const percent = span('0% done');\n",
              "    li.appendChild(percent);\n",
              "\n",
              "    outputElement.appendChild(li);\n",
              "\n",
              "    const fileDataPromise = new Promise((resolve) => {\n",
              "      const reader = new FileReader();\n",
              "      reader.onload = (e) => {\n",
              "        resolve(e.target.result);\n",
              "      };\n",
              "      reader.readAsArrayBuffer(file);\n",
              "    });\n",
              "    // Wait for the data to be ready.\n",
              "    let fileData = yield {\n",
              "      promise: fileDataPromise,\n",
              "      response: {\n",
              "        action: 'continue',\n",
              "      }\n",
              "    };\n",
              "\n",
              "    // Use a chunked sending to avoid message size limits. See b/62115660.\n",
              "    let position = 0;\n",
              "    do {\n",
              "      const length = Math.min(fileData.byteLength - position, MAX_PAYLOAD_SIZE);\n",
              "      const chunk = new Uint8Array(fileData, position, length);\n",
              "      position += length;\n",
              "\n",
              "      const base64 = btoa(String.fromCharCode.apply(null, chunk));\n",
              "      yield {\n",
              "        response: {\n",
              "          action: 'append',\n",
              "          file: file.name,\n",
              "          data: base64,\n",
              "        },\n",
              "      };\n",
              "\n",
              "      let percentDone = fileData.byteLength === 0 ?\n",
              "          100 :\n",
              "          Math.round((position / fileData.byteLength) * 100);\n",
              "      percent.textContent = `${percentDone}% done`;\n",
              "\n",
              "    } while (position < fileData.byteLength);\n",
              "  }\n",
              "\n",
              "  // All done.\n",
              "  yield {\n",
              "    response: {\n",
              "      action: 'complete',\n",
              "    }\n",
              "  };\n",
              "}\n",
              "\n",
              "scope.google = scope.google || {};\n",
              "scope.google.colab = scope.google.colab || {};\n",
              "scope.google.colab._files = {\n",
              "  _uploadFiles,\n",
              "  _uploadFilesContinue,\n",
              "};\n",
              "})(self);\n",
              "</script> "
            ]
          },
          "metadata": {}
        }
      ]
    },
    {
      "cell_type": "markdown",
      "source": [
        "## Importing Data\n",
        "Importing data uses the *import_data()* to get the input mode and the file name/link of the file. \\\\\n",
        "**Parameters:**\n",
        "1. name_type: \"google-drive-link\" or \"uploaded file\" for google drive file and uploaded file respectively.\n",
        "2. file_name: < *name of the file* > (Rest links and mounting options are already added into the function.)\n",
        "\n",
        "**Return Type:** *df*, pandas dataframe with the data present in the given file."
      ],
      "metadata": {
        "id": "c76WkE0vWKFD"
      }
    },
    {
      "cell_type": "code",
      "source": [
        "def import_data(name_type:str,file_name:str):\n",
        "\n",
        "  file_path=''\n",
        "\n",
        "  try:\n",
        "    if name_type==\"google-drive-link\":\n",
        "        drive.mount('/content/drive')\n",
        "        file_path='/content/drive/'+file_name+'.csv'\n",
        "    elif name_type==\"uploaded_file\":\n",
        "        file_path='/content/'+file_name+'.csv'\n",
        "    else:\n",
        "        raise Exception('Incorrect parameters given!')\n",
        "  except:\n",
        "    raise Exception(\"Unsuccessful import!\")\n",
        "  \n",
        "  print(\"CSV Imported!\")\n",
        "  df=pd.read_csv(file_path)\n",
        "  print(\"Dataset loaded to dataframe!\")\n",
        "\n",
        "  return df"
      ],
      "metadata": {
        "id": "SVT18T3YWG0J"
      },
      "execution_count": 51,
      "outputs": []
    },
    {
      "cell_type": "code",
      "source": [
        "data= import_data(\"uploaded_file\",\"bcd\")"
      ],
      "metadata": {
        "colab": {
          "base_uri": "https://localhost:8080/"
        },
        "id": "fiUFYaaYDwZh",
        "outputId": "c4239192-9755-47b9-a5b5-1a4711a59289"
      },
      "execution_count": 52,
      "outputs": [
        {
          "output_type": "stream",
          "name": "stdout",
          "text": [
            "CSV Imported!\n",
            "Dataset loaded to dataframe!\n"
          ]
        }
      ]
    },
    {
      "cell_type": "markdown",
      "source": [
        "# Preprocessing Begins..."
      ],
      "metadata": {
        "id": "D74ClASUm9-I"
      }
    },
    {
      "cell_type": "markdown",
      "source": [
        "**Boolean Masking:** \\\\\n",
        "*boolean_mask()* is used for boolean masking over the column *col_name* for values in *vals* for data stored in *data*\n",
        "\n",
        "**Note:**\n",
        "'B' in this usecase is considered as negative as per the medical conventions. Medicals practioners call a medical case **positive** only if the disease is found, which in this case is cancer. \\\\\n",
        "So, Benign (non cancerous tumour) is negative and malignant (cancerous tumour) is positive."
      ],
      "metadata": {
        "id": "Y1UG891onoy7"
      }
    },
    {
      "cell_type": "code",
      "source": [
        "def boolean_mask(data, col_name, vals):\n",
        "  #col_name=diagnosis\n",
        "  #vals=['B','M']\n",
        "  neg_class_data = data[data[col_name] == vals[0]]\n",
        "  pos_class_data = data[data[col_name] == vals[1]]\n",
        "\n",
        "  return pos_class_data, neg_class_data"
      ],
      "metadata": {
        "id": "10ps0UT6m9h0"
      },
      "execution_count": 53,
      "outputs": []
    },
    {
      "cell_type": "markdown",
      "source": [
        "**Training Splitting:** \\\\\n",
        "Training Testing Split is performed by the function *train_split()* which divides the given dataset into two parts for training and testing respectively. This split must create both partitions following the basic rules: \\\\\n",
        "- Training partition size must be greater than testset in order to give more data to model for training. (Eg. 0.7, 0.8)\n",
        "- Both partitions must not have common records to avoid training/testing on same values.\n",
        "- **Both partitions must have equally distributed records of each class.** Eg. Number of 'B's and 'M's must be same to avoid training/testing on different classes."
      ],
      "metadata": {
        "id": "UCIr822KShfZ"
      }
    },
    {
      "cell_type": "code",
      "source": [
        "def train_split(data, train_ratio : float):\n",
        "\n",
        "  training_data_len = int(train_ratio*len(data))\n",
        "  testing_data_len = int((1-train_ratio)*len(data))\n",
        "  print(\"Length of Training Data: \", training_data_len)\n",
        "  print(\"Length of Testing Data: \", testing_data_len)\n",
        "\n",
        "  pos_class_data, neg_class_data = boolean_mask(data, \"diagnosis\",['B','M'])\n",
        "  print(f\"Shape of both classes after Boolean Masking: \\n B:{neg_class_data.shape}\\n M:{pos_class_data.shape}\")\n",
        "\n",
        "  train_neg_class_data = neg_class_data.iloc[0:training_data_len//2,:]\n",
        "  train_pos_class_data = pos_class_data.iloc[0:training_data_len//2,:]\n",
        "  test_neg_class_data = neg_class_data.iloc[training_data_len//2:,:]\n",
        "  test_pos_class_data = pos_class_data.iloc[training_data_len//2:,:]\n",
        "\n",
        "  training_data = pd.concat([train_neg_class_data,train_pos_class_data])\n",
        "  testing_data = pd.concat([test_neg_class_data,test_pos_class_data])\n",
        "\n",
        "  #Unanmed colmns removed\n",
        "  training_data.drop([data.columns[32]],axis=1,inplace=True)\n",
        "  \n",
        "  testing_data.drop([data.columns[32]],axis=1,inplace=True)\n",
        "\n",
        "  return training_data, testing_data"
      ],
      "metadata": {
        "id": "WWW1LbHTSV6L"
      },
      "execution_count": 54,
      "outputs": []
    },
    {
      "cell_type": "markdown",
      "source": [
        "**Binary Encoding:** \\\\\n",
        "Binary Encoding is process of converting string categorical values into integral values to make it ready for calculations in training.\n",
        "\n",
        "Parameters:\n",
        "*initial_vals*: Intitial Categories which have to be encoded. \\\\\n",
        "*final_vals*: Final categories in which *initial_vals* will be encoded"
      ],
      "metadata": {
        "id": "h58thQoGuRj_"
      }
    },
    {
      "cell_type": "code",
      "source": [
        "def binary_encoding(training_data, testing_data, data, col_index:int, initial_vals, final_vals): \n",
        "  #initial_vals: ['B','M']\n",
        "  #final_vals: [0,1]\n",
        "  training_data[data.columns[col_index]].replace(to_replace=initial_vals, value=final_vals, inplace=True)\n",
        "  testing_data[data.columns[col_index]].replace(to_replace=initial_vals, value=final_vals, inplace=True)"
      ],
      "metadata": {
        "id": "TRwq7nV5uQZi"
      },
      "execution_count": 55,
      "outputs": []
    },
    {
      "cell_type": "markdown",
      "source": [
        "## **Correlation and Thresholding** \n",
        "Pearson correlation measures the linear relationship between variable continuous X and variable continuous Y and has a value between 1 and -1. In other words, the Pearson Correlation Coefficient measures the relationship between 2 variables via a line.\n",
        "\n",
        "**Correlation** is an important concept used Machine Learning Modelling to select only those features for modelling, which are directly related to the target. Irrelevant or less correlated columns increase the dimentions and exposes the model to the curse of dimentionality.\n",
        "\n",
        "The *corr_threshold()* takes the *data* (original dataset), *training_data*, *testing_data* and a list of threshold values in *threshold_vals*, and prints the classification report of each model its trains.\\\\\n",
        "**In each iteration within the function**, following actions are performed:\n",
        "- the features with correlation more than threshold (with the target) are filtered out.\n",
        "- models are trained for each threshold values\n",
        "- classification reports are given for each threshold\n"
      ],
      "metadata": {
        "id": "M9s7H9fU64Xn"
      }
    },
    {
      "cell_type": "code",
      "source": [
        "def corr_threshold(data, training_data, testing_data, threshold_vals):\n",
        "  #correlation calculation\n",
        "  corr_matrix=training_data.corr()\n",
        "\n",
        "  print(\"\\n\\n\\nodel testing for different thresholds starts...\")\n",
        "  for threshold in threshold_vals:\n",
        "    print(f\"Current threshold: {threshold}\")\n",
        "    D = dict(corr_matrix[data.columns[1]] > threshold)\n",
        "    key_select=[]\n",
        "    for i in D.keys():\n",
        "      try:\n",
        "        if D[i]==True:\n",
        "          key_select+=[i]\n",
        "      except:\n",
        "        print(i+\" had issues\")\n",
        "    \n",
        "    print(\"Featured selected for modelling, final filtering in action!\")\n",
        "    filtered_training_data = training_data[key_select]\n",
        "    answers = filtered_training_data[data.columns[1]]\n",
        "\n",
        "    input_features = filtered_training_data.drop([\"diagnosis\"],axis=1)\n",
        "    \n",
        "    filtered_testing_data=testing_data[key_select]\n",
        "    testing_input_features = filtered_testing_data.iloc[:,1:]\n",
        "    testing_answers = filtered_testing_data[data.columns[1]]\n",
        "\n",
        "    #model training\n",
        "    print(\"Modelling process initiated!!\")\n",
        "    naive_bayes_algo = GaussianNB()\n",
        "    naive_bayes_algo.fit(X=input_features, y=answers)\n",
        "    \n",
        "    print(\"Your model is ready, let's start the prediction!!\")\n",
        "    exam_answers = naive_bayes_algo.predict(testing_input_features)\n",
        "\n",
        "\n",
        "    print(\"Classification Report: \")\n",
        "    print(classification_report(testing_answers, exam_answers))"
      ],
      "metadata": {
        "id": "2rPv0BSGzqNI"
      },
      "execution_count": 56,
      "outputs": []
    },
    {
      "cell_type": "markdown",
      "source": [
        "# Final sequential function calls..."
      ],
      "metadata": {
        "id": "feS2nYsF4kYB"
      }
    },
    {
      "cell_type": "code",
      "source": [
        "train_ratio=float(input(\"Input Train Ratio:\"))\n",
        "initial_vals=['B','M']\n",
        "final_vals=[0,1]\n",
        "col_index=1\n",
        "threshold_vals=[0.1,0.2,0.3,0.4,0.5,0.6,0.7,0.8]\n",
        "\n",
        "#Splitting\n",
        "training_data, testing_data = train_split(data, train_ratio)\n",
        "\n",
        "#Encoding\n",
        "binary_encoding(training_data, testing_data, data, col_index, initial_vals, final_vals)\n",
        "\n",
        "#Correlation testing\n",
        "corr_threshold(data, training_data, testing_data, threshold_vals)"
      ],
      "metadata": {
        "colab": {
          "base_uri": "https://localhost:8080/"
        },
        "id": "F-qrd6aa0dWT",
        "outputId": "740beba8-a5cd-4937-912b-c398b81d0098"
      },
      "execution_count": 57,
      "outputs": [
        {
          "output_type": "stream",
          "name": "stdout",
          "text": [
            "Input Train Ratio:0.7\n",
            "Length of Training Data:  398\n",
            "Length of Testing Data:  170\n",
            "Shape of both classes after Boolean Masking: \n",
            " B:(357, 33)\n",
            " M:(212, 33)\n",
            "\n",
            "\n",
            "\n",
            "odel testing for different thresholds starts...\n",
            "Current threshold: 0.1\n",
            "Featured selected for modelling, final filtering in action!\n",
            "Modelling process initiated!!\n",
            "Your model is ready, let's start the prediction!!\n",
            "Classification Report: \n",
            "              precision    recall  f1-score   support\n",
            "\n",
            "           0       0.99      0.96      0.97       158\n",
            "           1       0.61      0.85      0.71        13\n",
            "\n",
            "    accuracy                           0.95       171\n",
            "   macro avg       0.80      0.90      0.84       171\n",
            "weighted avg       0.96      0.95      0.95       171\n",
            "\n",
            "Current threshold: 0.2\n",
            "Featured selected for modelling, final filtering in action!\n",
            "Modelling process initiated!!\n",
            "Your model is ready, let's start the prediction!!\n",
            "Classification Report: \n",
            "              precision    recall  f1-score   support\n",
            "\n",
            "           0       0.99      0.96      0.97       158\n",
            "           1       0.61      0.85      0.71        13\n",
            "\n",
            "    accuracy                           0.95       171\n",
            "   macro avg       0.80      0.90      0.84       171\n",
            "weighted avg       0.96      0.95      0.95       171\n",
            "\n",
            "Current threshold: 0.3\n",
            "Featured selected for modelling, final filtering in action!\n",
            "Modelling process initiated!!\n",
            "Your model is ready, let's start the prediction!!\n",
            "Classification Report: \n",
            "              precision    recall  f1-score   support\n",
            "\n",
            "           0       0.99      0.96      0.97       158\n",
            "           1       0.61      0.85      0.71        13\n",
            "\n",
            "    accuracy                           0.95       171\n",
            "   macro avg       0.80      0.90      0.84       171\n",
            "weighted avg       0.96      0.95      0.95       171\n",
            "\n",
            "Current threshold: 0.4\n",
            "Featured selected for modelling, final filtering in action!\n",
            "Modelling process initiated!!\n",
            "Your model is ready, let's start the prediction!!\n",
            "Classification Report: \n",
            "              precision    recall  f1-score   support\n",
            "\n",
            "           0       0.99      0.96      0.97       158\n",
            "           1       0.65      0.85      0.73        13\n",
            "\n",
            "    accuracy                           0.95       171\n",
            "   macro avg       0.82      0.90      0.85       171\n",
            "weighted avg       0.96      0.95      0.96       171\n",
            "\n",
            "Current threshold: 0.5\n",
            "Featured selected for modelling, final filtering in action!\n",
            "Modelling process initiated!!\n",
            "Your model is ready, let's start the prediction!!\n",
            "Classification Report: \n",
            "              precision    recall  f1-score   support\n",
            "\n",
            "           0       1.00      0.94      0.97       158\n",
            "           1       0.59      1.00      0.74        13\n",
            "\n",
            "    accuracy                           0.95       171\n",
            "   macro avg       0.80      0.97      0.86       171\n",
            "weighted avg       0.97      0.95      0.95       171\n",
            "\n",
            "Current threshold: 0.6\n",
            "Featured selected for modelling, final filtering in action!\n",
            "Modelling process initiated!!\n",
            "Your model is ready, let's start the prediction!!\n",
            "Classification Report: \n",
            "              precision    recall  f1-score   support\n",
            "\n",
            "           0       0.99      0.92      0.96       158\n",
            "           1       0.50      0.92      0.65        13\n",
            "\n",
            "    accuracy                           0.92       171\n",
            "   macro avg       0.75      0.92      0.80       171\n",
            "weighted avg       0.96      0.92      0.93       171\n",
            "\n",
            "Current threshold: 0.7\n",
            "Featured selected for modelling, final filtering in action!\n",
            "Modelling process initiated!!\n",
            "Your model is ready, let's start the prediction!!\n",
            "Classification Report: \n",
            "              precision    recall  f1-score   support\n",
            "\n",
            "           0       0.99      0.94      0.96       158\n",
            "           1       0.55      0.92      0.69        13\n",
            "\n",
            "    accuracy                           0.94       171\n",
            "   macro avg       0.77      0.93      0.82       171\n",
            "weighted avg       0.96      0.94      0.94       171\n",
            "\n",
            "Current threshold: 0.8\n",
            "Featured selected for modelling, final filtering in action!\n",
            "Modelling process initiated!!\n",
            "Your model is ready, let's start the prediction!!\n",
            "Classification Report: \n",
            "              precision    recall  f1-score   support\n",
            "\n",
            "           0       0.99      0.89      0.94       158\n",
            "           1       0.40      0.92      0.56        13\n",
            "\n",
            "    accuracy                           0.89       171\n",
            "   macro avg       0.70      0.90      0.75       171\n",
            "weighted avg       0.95      0.89      0.91       171\n",
            "\n"
          ]
        }
      ]
    },
    {
      "cell_type": "markdown",
      "source": [
        "## Future Scope:\n",
        "\n",
        "- Generated reports can be compared with each other\n",
        "- Compare metrics to each other\n",
        "- Change parameters for each values."
      ],
      "metadata": {
        "id": "as1wh-88_Kus"
      }
    }
  ]
}